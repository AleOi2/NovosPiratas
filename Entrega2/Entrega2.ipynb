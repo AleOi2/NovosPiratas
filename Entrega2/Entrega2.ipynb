{
 "cells": [
  {
   "cell_type": "code",
   "execution_count": 1,
   "metadata": {},
   "outputs": [],
   "source": [
    "import pandas as pd\n",
    "import numpy as np\n",
    "import matplotlib.pyplot as plt\n",
    "import seaborn as sns\n"
   ]
  },
  {
   "cell_type": "code",
   "execution_count": 254,
   "metadata": {},
   "outputs": [],
   "source": [
    "# Plote grafico\n",
    "def plote(X, Y, Data, XLab, YLab, Title, intervalo):\n",
    "    sns.set(style=\"darkgrid\")\n",
    "    plt.axes()\n",
    "    plot = sns.lineplot(x = X, y = Y, data = Data)\n",
    "    plot.set_xlabel(XLab, fontsize = 20)\n",
    "    plot.set_ylabel(YLab, fontsize = 20)\n",
    "    count = 0\n",
    "    label = []\n",
    "    for index in X:    \n",
    "        if count % intervalo == 0:\n",
    "            label.append(index)\n",
    "        else: \n",
    "            label.append('')\n",
    "        count = count + 1\n",
    "    plot.set_xticklabels(label, rotation = 90)\n",
    "    plot.set_title(Title, fontsize = 15)\n",
    "    plot"
   ]
  },
  {
   "cell_type": "markdown",
   "metadata": {},
   "source": [
    "Pegando os Dados - Uma visao geral"
   ]
  },
  {
   "cell_type": "code",
   "execution_count": 2,
   "metadata": {},
   "outputs": [
    {
     "data": {
      "text/html": [
       "<div>\n",
       "<style scoped>\n",
       "    .dataframe tbody tr th:only-of-type {\n",
       "        vertical-align: middle;\n",
       "    }\n",
       "\n",
       "    .dataframe tbody tr th {\n",
       "        vertical-align: top;\n",
       "    }\n",
       "\n",
       "    .dataframe thead th {\n",
       "        text-align: right;\n",
       "    }\n",
       "</style>\n",
       "<table border=\"1\" class=\"dataframe\">\n",
       "  <thead>\n",
       "    <tr style=\"text-align: right;\">\n",
       "      <th></th>\n",
       "      <th>Store</th>\n",
       "      <th>Dept</th>\n",
       "      <th>Date</th>\n",
       "      <th>Weekly_Sales</th>\n",
       "      <th>IsHoliday</th>\n",
       "    </tr>\n",
       "  </thead>\n",
       "  <tbody>\n",
       "    <tr>\n",
       "      <th>0</th>\n",
       "      <td>1</td>\n",
       "      <td>1</td>\n",
       "      <td>2010-02-05</td>\n",
       "      <td>24924.50</td>\n",
       "      <td>False</td>\n",
       "    </tr>\n",
       "    <tr>\n",
       "      <th>1</th>\n",
       "      <td>1</td>\n",
       "      <td>1</td>\n",
       "      <td>2010-02-12</td>\n",
       "      <td>46039.49</td>\n",
       "      <td>True</td>\n",
       "    </tr>\n",
       "    <tr>\n",
       "      <th>2</th>\n",
       "      <td>1</td>\n",
       "      <td>1</td>\n",
       "      <td>2010-02-19</td>\n",
       "      <td>41595.55</td>\n",
       "      <td>False</td>\n",
       "    </tr>\n",
       "    <tr>\n",
       "      <th>3</th>\n",
       "      <td>1</td>\n",
       "      <td>1</td>\n",
       "      <td>2010-02-26</td>\n",
       "      <td>19403.54</td>\n",
       "      <td>False</td>\n",
       "    </tr>\n",
       "    <tr>\n",
       "      <th>4</th>\n",
       "      <td>1</td>\n",
       "      <td>1</td>\n",
       "      <td>2010-03-05</td>\n",
       "      <td>21827.90</td>\n",
       "      <td>False</td>\n",
       "    </tr>\n",
       "    <tr>\n",
       "      <th>5</th>\n",
       "      <td>1</td>\n",
       "      <td>1</td>\n",
       "      <td>2010-03-12</td>\n",
       "      <td>21043.39</td>\n",
       "      <td>False</td>\n",
       "    </tr>\n",
       "    <tr>\n",
       "      <th>6</th>\n",
       "      <td>1</td>\n",
       "      <td>1</td>\n",
       "      <td>2010-03-19</td>\n",
       "      <td>22136.64</td>\n",
       "      <td>False</td>\n",
       "    </tr>\n",
       "    <tr>\n",
       "      <th>7</th>\n",
       "      <td>1</td>\n",
       "      <td>1</td>\n",
       "      <td>2010-03-26</td>\n",
       "      <td>26229.21</td>\n",
       "      <td>False</td>\n",
       "    </tr>\n",
       "    <tr>\n",
       "      <th>8</th>\n",
       "      <td>1</td>\n",
       "      <td>1</td>\n",
       "      <td>2010-04-02</td>\n",
       "      <td>57258.43</td>\n",
       "      <td>False</td>\n",
       "    </tr>\n",
       "    <tr>\n",
       "      <th>9</th>\n",
       "      <td>1</td>\n",
       "      <td>1</td>\n",
       "      <td>2010-04-09</td>\n",
       "      <td>42960.91</td>\n",
       "      <td>False</td>\n",
       "    </tr>\n",
       "    <tr>\n",
       "      <th>10</th>\n",
       "      <td>1</td>\n",
       "      <td>1</td>\n",
       "      <td>2010-04-16</td>\n",
       "      <td>17596.96</td>\n",
       "      <td>False</td>\n",
       "    </tr>\n",
       "    <tr>\n",
       "      <th>11</th>\n",
       "      <td>1</td>\n",
       "      <td>1</td>\n",
       "      <td>2010-04-23</td>\n",
       "      <td>16145.35</td>\n",
       "      <td>False</td>\n",
       "    </tr>\n",
       "    <tr>\n",
       "      <th>12</th>\n",
       "      <td>1</td>\n",
       "      <td>1</td>\n",
       "      <td>2010-04-30</td>\n",
       "      <td>16555.11</td>\n",
       "      <td>False</td>\n",
       "    </tr>\n",
       "    <tr>\n",
       "      <th>13</th>\n",
       "      <td>1</td>\n",
       "      <td>1</td>\n",
       "      <td>2010-05-07</td>\n",
       "      <td>17413.94</td>\n",
       "      <td>False</td>\n",
       "    </tr>\n",
       "    <tr>\n",
       "      <th>14</th>\n",
       "      <td>1</td>\n",
       "      <td>1</td>\n",
       "      <td>2010-05-14</td>\n",
       "      <td>18926.74</td>\n",
       "      <td>False</td>\n",
       "    </tr>\n",
       "    <tr>\n",
       "      <th>15</th>\n",
       "      <td>1</td>\n",
       "      <td>1</td>\n",
       "      <td>2010-05-21</td>\n",
       "      <td>14773.04</td>\n",
       "      <td>False</td>\n",
       "    </tr>\n",
       "    <tr>\n",
       "      <th>16</th>\n",
       "      <td>1</td>\n",
       "      <td>1</td>\n",
       "      <td>2010-05-28</td>\n",
       "      <td>15580.43</td>\n",
       "      <td>False</td>\n",
       "    </tr>\n",
       "    <tr>\n",
       "      <th>17</th>\n",
       "      <td>1</td>\n",
       "      <td>1</td>\n",
       "      <td>2010-06-04</td>\n",
       "      <td>17558.09</td>\n",
       "      <td>False</td>\n",
       "    </tr>\n",
       "    <tr>\n",
       "      <th>18</th>\n",
       "      <td>1</td>\n",
       "      <td>1</td>\n",
       "      <td>2010-06-11</td>\n",
       "      <td>16637.62</td>\n",
       "      <td>False</td>\n",
       "    </tr>\n",
       "    <tr>\n",
       "      <th>19</th>\n",
       "      <td>1</td>\n",
       "      <td>1</td>\n",
       "      <td>2010-06-18</td>\n",
       "      <td>16216.27</td>\n",
       "      <td>False</td>\n",
       "    </tr>\n",
       "    <tr>\n",
       "      <th>20</th>\n",
       "      <td>1</td>\n",
       "      <td>1</td>\n",
       "      <td>2010-06-25</td>\n",
       "      <td>16328.72</td>\n",
       "      <td>False</td>\n",
       "    </tr>\n",
       "  </tbody>\n",
       "</table>\n",
       "</div>"
      ],
      "text/plain": [
       "    Store  Dept        Date  Weekly_Sales  IsHoliday\n",
       "0       1     1  2010-02-05      24924.50      False\n",
       "1       1     1  2010-02-12      46039.49       True\n",
       "2       1     1  2010-02-19      41595.55      False\n",
       "3       1     1  2010-02-26      19403.54      False\n",
       "4       1     1  2010-03-05      21827.90      False\n",
       "5       1     1  2010-03-12      21043.39      False\n",
       "6       1     1  2010-03-19      22136.64      False\n",
       "7       1     1  2010-03-26      26229.21      False\n",
       "8       1     1  2010-04-02      57258.43      False\n",
       "9       1     1  2010-04-09      42960.91      False\n",
       "10      1     1  2010-04-16      17596.96      False\n",
       "11      1     1  2010-04-23      16145.35      False\n",
       "12      1     1  2010-04-30      16555.11      False\n",
       "13      1     1  2010-05-07      17413.94      False\n",
       "14      1     1  2010-05-14      18926.74      False\n",
       "15      1     1  2010-05-21      14773.04      False\n",
       "16      1     1  2010-05-28      15580.43      False\n",
       "17      1     1  2010-06-04      17558.09      False\n",
       "18      1     1  2010-06-11      16637.62      False\n",
       "19      1     1  2010-06-18      16216.27      False\n",
       "20      1     1  2010-06-25      16328.72      False"
      ]
     },
     "execution_count": 2,
     "metadata": {},
     "output_type": "execute_result"
    }
   ],
   "source": [
    "# Pick data from train.csv\n",
    "data = pd.read_csv('train.csv')\n",
    "data.head(21)"
   ]
  },
  {
   "cell_type": "markdown",
   "metadata": {},
   "source": [
    "# Analise Estatistica preliminar"
   ]
  },
  {
   "cell_type": "code",
   "execution_count": 3,
   "metadata": {},
   "outputs": [
    {
     "data": {
      "text/html": [
       "<div>\n",
       "<style scoped>\n",
       "    .dataframe tbody tr th:only-of-type {\n",
       "        vertical-align: middle;\n",
       "    }\n",
       "\n",
       "    .dataframe tbody tr th {\n",
       "        vertical-align: top;\n",
       "    }\n",
       "\n",
       "    .dataframe thead th {\n",
       "        text-align: right;\n",
       "    }\n",
       "</style>\n",
       "<table border=\"1\" class=\"dataframe\">\n",
       "  <thead>\n",
       "    <tr style=\"text-align: right;\">\n",
       "      <th></th>\n",
       "      <th>Store</th>\n",
       "      <th>Dept</th>\n",
       "      <th>Weekly_Sales</th>\n",
       "    </tr>\n",
       "  </thead>\n",
       "  <tbody>\n",
       "    <tr>\n",
       "      <th>count</th>\n",
       "      <td>421570.000000</td>\n",
       "      <td>421570.000000</td>\n",
       "      <td>421570.000000</td>\n",
       "    </tr>\n",
       "    <tr>\n",
       "      <th>mean</th>\n",
       "      <td>22.200546</td>\n",
       "      <td>44.260317</td>\n",
       "      <td>15981.258123</td>\n",
       "    </tr>\n",
       "    <tr>\n",
       "      <th>std</th>\n",
       "      <td>12.785297</td>\n",
       "      <td>30.492054</td>\n",
       "      <td>22711.183519</td>\n",
       "    </tr>\n",
       "    <tr>\n",
       "      <th>min</th>\n",
       "      <td>1.000000</td>\n",
       "      <td>1.000000</td>\n",
       "      <td>-4988.940000</td>\n",
       "    </tr>\n",
       "    <tr>\n",
       "      <th>25%</th>\n",
       "      <td>11.000000</td>\n",
       "      <td>18.000000</td>\n",
       "      <td>2079.650000</td>\n",
       "    </tr>\n",
       "    <tr>\n",
       "      <th>50%</th>\n",
       "      <td>22.000000</td>\n",
       "      <td>37.000000</td>\n",
       "      <td>7612.030000</td>\n",
       "    </tr>\n",
       "    <tr>\n",
       "      <th>75%</th>\n",
       "      <td>33.000000</td>\n",
       "      <td>74.000000</td>\n",
       "      <td>20205.852500</td>\n",
       "    </tr>\n",
       "    <tr>\n",
       "      <th>max</th>\n",
       "      <td>45.000000</td>\n",
       "      <td>99.000000</td>\n",
       "      <td>693099.360000</td>\n",
       "    </tr>\n",
       "  </tbody>\n",
       "</table>\n",
       "</div>"
      ],
      "text/plain": [
       "               Store           Dept   Weekly_Sales\n",
       "count  421570.000000  421570.000000  421570.000000\n",
       "mean       22.200546      44.260317   15981.258123\n",
       "std        12.785297      30.492054   22711.183519\n",
       "min         1.000000       1.000000   -4988.940000\n",
       "25%        11.000000      18.000000    2079.650000\n",
       "50%        22.000000      37.000000    7612.030000\n",
       "75%        33.000000      74.000000   20205.852500\n",
       "max        45.000000      99.000000  693099.360000"
      ]
     },
     "execution_count": 3,
     "metadata": {},
     "output_type": "execute_result"
    }
   ],
   "source": [
    "data.describe()"
   ]
  },
  {
   "cell_type": "code",
   "execution_count": 4,
   "metadata": {},
   "outputs": [],
   "source": [
    "Store = data['Store'].unique()\n",
    "Dept = data['Dept'].unique()\n",
    "Date = data['Date'].unique()\n",
    "Week_Sal = data['Weekly_Sales'].unique()\n",
    "Is_Holi = data['IsHoliday'].unique()"
   ]
  },
  {
   "cell_type": "markdown",
   "metadata": {},
   "source": [
    "# Verificando os possíveis valores de cada um dos parâmetros"
   ]
  },
  {
   "cell_type": "code",
   "execution_count": 5,
   "metadata": {},
   "outputs": [
    {
     "name": "stdout",
     "output_type": "stream",
     "text": [
      "Lojas:\n",
      "[ 1  2  3  4  5  6  7  8  9 10 11 12 13 14 15 16 17 18 19 20 21 22 23 24\n",
      " 25 26 27 28 29 30 31 32 33 34 35 36 37 38 39 40 41 42 43 44 45]\n",
      "Departamentos:\n",
      "[ 1  2  3  4  5  6  7  8  9 10 11 12 13 14 16 17 18 19 20 21 22 23 24 25\n",
      " 26 27 28 29 30 31 32 33 34 35 36 37 38 40 41 42 44 45 46 47 48 49 51 52\n",
      " 54 55 56 58 59 60 67 71 72 74 77 78 79 80 81 82 83 85 87 90 91 92 93 94\n",
      " 95 96 97 98 99 39 50 43 65]\n",
      "Data:\n",
      "['2010-02-05' '2010-02-12' '2010-02-19' '2010-02-26' '2010-03-05'\n",
      " '2010-03-12' '2010-03-19' '2010-03-26' '2010-04-02' '2010-04-09'\n",
      " '2010-04-16' '2010-04-23' '2010-04-30' '2010-05-07' '2010-05-14'\n",
      " '2010-05-21' '2010-05-28' '2010-06-04' '2010-06-11' '2010-06-18'\n",
      " '2010-06-25' '2010-07-02' '2010-07-09' '2010-07-16' '2010-07-23'\n",
      " '2010-07-30' '2010-08-06' '2010-08-13' '2010-08-20' '2010-08-27'\n",
      " '2010-09-03' '2010-09-10' '2010-09-17' '2010-09-24' '2010-10-01'\n",
      " '2010-10-08' '2010-10-15' '2010-10-22' '2010-10-29' '2010-11-05'\n",
      " '2010-11-12' '2010-11-19' '2010-11-26' '2010-12-03' '2010-12-10'\n",
      " '2010-12-17' '2010-12-24' '2010-12-31' '2011-01-07' '2011-01-14'\n",
      " '2011-01-21' '2011-01-28' '2011-02-04' '2011-02-11' '2011-02-18'\n",
      " '2011-02-25' '2011-03-04' '2011-03-11' '2011-03-18' '2011-03-25'\n",
      " '2011-04-01' '2011-04-08' '2011-04-15' '2011-04-22' '2011-04-29'\n",
      " '2011-05-06' '2011-05-13' '2011-05-20' '2011-05-27' '2011-06-03'\n",
      " '2011-06-10' '2011-06-17' '2011-06-24' '2011-07-01' '2011-07-08'\n",
      " '2011-07-15' '2011-07-22' '2011-07-29' '2011-08-05' '2011-08-12'\n",
      " '2011-08-19' '2011-08-26' '2011-09-02' '2011-09-09' '2011-09-16'\n",
      " '2011-09-23' '2011-09-30' '2011-10-07' '2011-10-14' '2011-10-21'\n",
      " '2011-10-28' '2011-11-04' '2011-11-11' '2011-11-18' '2011-11-25'\n",
      " '2011-12-02' '2011-12-09' '2011-12-16' '2011-12-23' '2011-12-30'\n",
      " '2012-01-06' '2012-01-13' '2012-01-20' '2012-01-27' '2012-02-03'\n",
      " '2012-02-10' '2012-02-17' '2012-02-24' '2012-03-02' '2012-03-09'\n",
      " '2012-03-16' '2012-03-23' '2012-03-30' '2012-04-06' '2012-04-13'\n",
      " '2012-04-20' '2012-04-27' '2012-05-04' '2012-05-11' '2012-05-18'\n",
      " '2012-05-25' '2012-06-01' '2012-06-08' '2012-06-15' '2012-06-22'\n",
      " '2012-06-29' '2012-07-06' '2012-07-13' '2012-07-20' '2012-07-27'\n",
      " '2012-08-03' '2012-08-10' '2012-08-17' '2012-08-24' '2012-08-31'\n",
      " '2012-09-07' '2012-09-14' '2012-09-21' '2012-09-28' '2012-10-05'\n",
      " '2012-10-12' '2012-10-19' '2012-10-26']\n",
      "Vendas:\n",
      "[24924.5  46039.49 41595.55 ...  1061.02   760.01  1076.8 ]\n",
      "EFerias:\n",
      "[False  True]\n"
     ]
    }
   ],
   "source": [
    "print(\"Lojas:\")\n",
    "print(Store)\n",
    "print(\"Departamentos:\")\n",
    "print(Dept)\n",
    "print(\"Data:\")\n",
    "print(Date)\n",
    "print(\"Vendas:\")\n",
    "print(Week_Sal)\n",
    "print(\"EFeriado:\")\n",
    "print(Is_Holi)\n"
   ]
  },
  {
   "cell_type": "markdown",
   "metadata": {},
   "source": [
    "# Primeira Questao"
   ]
  },
  {
   "cell_type": "code",
   "execution_count": 6,
   "metadata": {},
   "outputs": [
    {
     "data": {
      "text/plain": [
       "Weekly_Sales    1643690.9\n",
       "dtype: float64"
      ]
     },
     "execution_count": 6,
     "metadata": {},
     "output_type": "execute_result"
    }
   ],
   "source": [
    "'''\n",
    "    As vendas totais de cada loja é a soma\n",
    "    de cada quantidade de vendas em cada \n",
    "    departamento.\n",
    "    \n",
    "    Assim, pode-se fazer para cada loja uma\n",
    "    tabela com a soma de vendas dos departamentos\n",
    "    durante o tempo.\n",
    "    \n",
    "    Enfim, pode-se fazer a media dos valores\n",
    "    de venda nas lojas fixando a data\n",
    "'''\n",
    "# Exemplo Data = 2010-02-05 e Store = 1\n",
    "data[(data['Date'] == '2010-02-05') & (data['Store'] == 1)][['Weekly_Sales']].sum()\n"
   ]
  },
  {
   "cell_type": "code",
   "execution_count": 7,
   "metadata": {},
   "outputs": [
    {
     "data": {
      "text/html": [
       "<div>\n",
       "<style scoped>\n",
       "    .dataframe tbody tr th:only-of-type {\n",
       "        vertical-align: middle;\n",
       "    }\n",
       "\n",
       "    .dataframe tbody tr th {\n",
       "        vertical-align: top;\n",
       "    }\n",
       "\n",
       "    .dataframe thead th {\n",
       "        text-align: right;\n",
       "    }\n",
       "</style>\n",
       "<table border=\"1\" class=\"dataframe\">\n",
       "  <thead>\n",
       "    <tr style=\"text-align: right;\">\n",
       "      <th></th>\n",
       "      <th></th>\n",
       "      <th>Weekly_Sales</th>\n",
       "    </tr>\n",
       "    <tr>\n",
       "      <th>Store</th>\n",
       "      <th>Date</th>\n",
       "      <th></th>\n",
       "    </tr>\n",
       "  </thead>\n",
       "  <tbody>\n",
       "    <tr>\n",
       "      <th rowspan=\"5\" valign=\"top\">1</th>\n",
       "      <th>2010-02-05</th>\n",
       "      <td>1643690.90</td>\n",
       "    </tr>\n",
       "    <tr>\n",
       "      <th>2010-02-12</th>\n",
       "      <td>1641957.44</td>\n",
       "    </tr>\n",
       "    <tr>\n",
       "      <th>2010-02-19</th>\n",
       "      <td>1611968.17</td>\n",
       "    </tr>\n",
       "    <tr>\n",
       "      <th>2010-02-26</th>\n",
       "      <td>1409727.59</td>\n",
       "    </tr>\n",
       "    <tr>\n",
       "      <th>2010-03-05</th>\n",
       "      <td>1554806.68</td>\n",
       "    </tr>\n",
       "  </tbody>\n",
       "</table>\n",
       "</div>"
      ],
      "text/plain": [
       "                  Weekly_Sales\n",
       "Store Date                    \n",
       "1     2010-02-05    1643690.90\n",
       "      2010-02-12    1641957.44\n",
       "      2010-02-19    1611968.17\n",
       "      2010-02-26    1409727.59\n",
       "      2010-03-05    1554806.68"
      ]
     },
     "execution_count": 7,
     "metadata": {},
     "output_type": "execute_result"
    }
   ],
   "source": [
    "# Vendas totais de cada loja em cada período (soma departamento)\n",
    "Sum_Store_Date = data.groupby(by = ['Store', 'Date'])[['Weekly_Sales']].sum()\n",
    "Sum_Store_Date.head()"
   ]
  },
  {
   "cell_type": "code",
   "execution_count": 30,
   "metadata": {},
   "outputs": [
    {
     "data": {
      "text/plain": [
       "Index(['2010-02-05', '2010-02-12', '2010-02-19', '2010-02-26', '2010-03-05',\n",
       "       '2010-03-12', '2010-03-19', '2010-03-26', '2010-04-02', '2010-04-09',\n",
       "       ...\n",
       "       '2012-08-24', '2012-08-31', '2012-09-07', '2012-09-14', '2012-09-21',\n",
       "       '2012-09-28', '2012-10-05', '2012-10-12', '2012-10-19', '2012-10-26'],\n",
       "      dtype='object', name='Date', length=143)"
      ]
     },
     "execution_count": 30,
     "metadata": {},
     "output_type": "execute_result"
    }
   ],
   "source": [
    "# Média das vendas por período\n",
    "Avg_Date = Sum_Store_Date.groupby(by = 'Date')[['Weekly_Sales']].mean()\n",
    "Avg_Date.index"
   ]
  },
  {
   "cell_type": "code",
   "execution_count": 59,
   "metadata": {},
   "outputs": [
    {
     "data": {
      "text/plain": [
       "143"
      ]
     },
     "execution_count": 59,
     "metadata": {},
     "output_type": "execute_result"
    }
   ],
   "source": [
    "len(Avg_Date.index)"
   ]
  },
  {
   "cell_type": "code",
   "execution_count": 255,
   "metadata": {},
   "outputs": [
    {
     "data": {
      "image/png": "[encoded data removed]",
      "text/plain": [
       "<Figure size 432x288 with 1 Axes>"
      ]
     },
     "metadata": {},
     "output_type": "display_data"
    }
   ],
   "source": [
    "plote(Avg_Date.index, 'Weekly_Sales', \n",
    "     Avg_Date, 'Data', 'Vendas Semanais',\n",
    "     'Vendas Semanais Média X Período',\n",
    "     8)"
   ]
  },
  {
   "cell_type": "code",
   "execution_count": 138,
   "metadata": {},
   "outputs": [
    {
     "name": "stdout",
     "output_type": "stream",
     "text": [
      "A data e vendas semanal de maior amplitude foram\n",
      "Index(['2010-12-24'], dtype='object', name='Date') 1798475.9022222224\n"
     ]
    }
   ],
   "source": [
    "# Determinando alguns pontos que parecem relevantes\n",
    "# Ponto de maximo\n",
    "maximo = Avg_Date['Weekly_Sales'].max()\n",
    "data_maximo = Avg_Date.index[ Avg_Date['Weekly_Sales'] == Avg_Date['Weekly_Sales'].max()]\n",
    "print(\"A data e vendas semanal de maior amplitude foram\")\n",
    "print(data_maximo , maximo)"
   ]
  },
  {
   "cell_type": "code",
   "execution_count": 140,
   "metadata": {},
   "outputs": [
    {
     "name": "stdout",
     "output_type": "stream",
     "text": [
      "A data e vendas semanal da segunda maior amplitude foram\n",
      "Index(['2011-12-23'], dtype='object', name='Date') 1711072.0291111108\n"
     ]
    }
   ],
   "source": [
    "# Verificando o segundo pico\n",
    "redux = Avg_Date.drop(index = data_maximo)\n",
    "maximo2 = redux['Weekly_Sales'].max()\n",
    "data_maximo2 = redux.index[ redux['Weekly_Sales'] == redux['Weekly_Sales'].max()]\n",
    "print(\"A data e vendas semanal da segunda maior amplitude foram\")\n",
    "print(data_maximo2 , maximo2)"
   ]
  },
  {
   "cell_type": "code",
   "execution_count": 146,
   "metadata": {},
   "outputs": [
    {
     "name": "stdout",
     "output_type": "stream",
     "text": [
      "A data e vendas semanal da segunda maior amplitude foram\n",
      "Index(['2011-11-25'], dtype='object', name='Date') 1479857.8946666666\n"
     ]
    }
   ],
   "source": [
    "# Verificando o terceiro pico\n",
    "redux2 = redux.drop(index = data_maximo2)\n",
    "maximo3 = redux2['Weekly_Sales'].max()\n",
    "data_maximo3 = redux2.index[ redux2['Weekly_Sales'] == redux2['Weekly_Sales'].max()]\n",
    "print(\"A data e vendas semanal da segunda maior amplitude foram\")\n",
    "print(data_maximo3 , maximo3)\n"
   ]
  },
  {
   "cell_type": "code",
   "execution_count": 147,
   "metadata": {},
   "outputs": [
    {
     "name": "stdout",
     "output_type": "stream",
     "text": [
      "A data e vendas semanal da segunda maior amplitude foram\n",
      "Index(['2010-11-26'], dtype='object', name='Date') 1462688.9608888885\n"
     ]
    }
   ],
   "source": [
    "# Verificando o quarto pico\n",
    "redux3 = redux2.drop(index = data_maximo3)\n",
    "maximo4 = redux3['Weekly_Sales'].max()\n",
    "data_maximo4 = redux3.index[ redux3['Weekly_Sales'] == redux3['Weekly_Sales'].max()]\n",
    "print(\"A data e vendas semanal da segunda maior amplitude foram\")\n",
    "print(data_maximo4 , maximo4)"
   ]
  },
  {
   "cell_type": "code",
   "execution_count": 256,
   "metadata": {},
   "outputs": [
    {
     "name": "stdout",
     "output_type": "stream",
     "text": [
      "A data e vendas semanal de maior amplitude foram\n",
      "Index(['2010-12-24'], dtype='object', name='Date') 1798475.9022222224\n",
      "A data e vendas semanal da segunda maior amplitude foram\n",
      "Index(['2011-12-23'], dtype='object', name='Date') 1711072.0291111108\n",
      "A data e vendas semanal da terceira maior amplitude foram\n",
      "Index(['2011-11-25'], dtype='object', name='Date') 1479857.8946666666\n",
      "A data e vendas semanal da quarta maior amplitude foram\n",
      "Index(['2010-11-26'], dtype='object', name='Date') 1462688.9608888885\n"
     ]
    },
    {
     "data": {
      "image/png": "[encoded data removed]",
      "text/plain": [
       "<Figure size 432x288 with 1 Axes>"
      ]
     },
     "metadata": {},
     "output_type": "display_data"
    }
   ],
   "source": [
    "'''\n",
    "    Resumo\n",
    "'''\n",
    "print(\"A data e vendas semanal de maior amplitude foram\")\n",
    "print(data_maximo , maximo)\n",
    "print(\"A data e vendas semanal da segunda maior amplitude foram\")\n",
    "print(data_maximo2 , maximo2)\n",
    "print(\"A data e vendas semanal da terceira maior amplitude foram\")\n",
    "print(data_maximo3 , maximo3)\n",
    "print(\"A data e vendas semanal da quarta maior amplitude foram\")\n",
    "print(data_maximo4 , maximo4)\n",
    "\n",
    "plote(Avg_Date.index, 'Weekly_Sales', \n",
    "     Avg_Date, 'Data', 'Vendas Semanais',\n",
    "     'Vendas Semanais Média X Período',\n",
    "     8)"
   ]
  },
  {
   "cell_type": "markdown",
   "metadata": {},
   "source": [
    "# Segunda Questao"
   ]
  },
  {
   "cell_type": "code",
   "execution_count": 226,
   "metadata": {},
   "outputs": [
    {
     "data": {
      "text/plain": [
       "Store\n",
       "20    3.013978e+08\n",
       "4     2.995440e+08\n",
       "14    2.889999e+08\n",
       "13    2.865177e+08\n",
       "2     2.753824e+08\n",
       "10    2.716177e+08\n",
       "27    2.538559e+08\n",
       "6     2.237561e+08\n",
       "1     2.224028e+08\n",
       "39    2.074455e+08\n",
       "19    2.066349e+08\n",
       "Name: Weekly_Sales, dtype: float64"
      ]
     },
     "execution_count": 226,
     "metadata": {},
     "output_type": "execute_result"
    }
   ],
   "source": [
    "'''\n",
    "    As 10 lojas que melhor performaram\n",
    "    sao aquelas que apresentam maior\n",
    "    vendas totais.\n",
    "'''\n",
    "# Determinando as lojas que mais venderam\n",
    "\n",
    "# Vendas totais por loja\n",
    "Sum_Store = Sum_Store_Date.groupby(by = 'Store')[['Weekly_Sales']].sum()\n",
    "# Ordenamento das lojas que mais venderam no período analisado\n",
    "Sum_Store_bst10 = Sum_Store.sort_values(by = 'Weekly_Sales', ascending=False).iloc[0:11,:]\n",
    "Sum_Store_bst10['Weekly_Sales']"
   ]
  },
  {
   "cell_type": "code",
   "execution_count": 249,
   "metadata": {},
   "outputs": [
    {
     "data": {
      "text/html": [
       "<div>\n",
       "<style scoped>\n",
       "    .dataframe tbody tr th:only-of-type {\n",
       "        vertical-align: middle;\n",
       "    }\n",
       "\n",
       "    .dataframe tbody tr th {\n",
       "        vertical-align: top;\n",
       "    }\n",
       "\n",
       "    .dataframe thead th {\n",
       "        text-align: right;\n",
       "    }\n",
       "</style>\n",
       "<table border=\"1\" class=\"dataframe\">\n",
       "  <thead>\n",
       "    <tr style=\"text-align: right;\">\n",
       "      <th></th>\n",
       "      <th>Weekly_Sales</th>\n",
       "    </tr>\n",
       "    <tr>\n",
       "      <th>Date</th>\n",
       "      <th></th>\n",
       "    </tr>\n",
       "  </thead>\n",
       "  <tbody>\n",
       "    <tr>\n",
       "      <th>2010-02-05</th>\n",
       "      <td>1.942374e+06</td>\n",
       "    </tr>\n",
       "    <tr>\n",
       "      <th>2010-02-12</th>\n",
       "      <td>1.831163e+06</td>\n",
       "    </tr>\n",
       "    <tr>\n",
       "      <th>2010-02-19</th>\n",
       "      <td>1.863170e+06</td>\n",
       "    </tr>\n",
       "    <tr>\n",
       "      <th>2010-02-26</th>\n",
       "      <td>1.671337e+06</td>\n",
       "    </tr>\n",
       "    <tr>\n",
       "      <th>2010-03-05</th>\n",
       "      <td>1.770717e+06</td>\n",
       "    </tr>\n",
       "    <tr>\n",
       "      <th>2010-03-12</th>\n",
       "      <td>1.769946e+06</td>\n",
       "    </tr>\n",
       "    <tr>\n",
       "      <th>2010-03-19</th>\n",
       "      <td>1.744452e+06</td>\n",
       "    </tr>\n",
       "    <tr>\n",
       "      <th>2010-03-26</th>\n",
       "      <td>1.691709e+06</td>\n",
       "    </tr>\n",
       "    <tr>\n",
       "      <th>2010-04-02</th>\n",
       "      <td>1.977615e+06</td>\n",
       "    </tr>\n",
       "    <tr>\n",
       "      <th>2010-04-09</th>\n",
       "      <td>1.814925e+06</td>\n",
       "    </tr>\n",
       "  </tbody>\n",
       "</table>\n",
       "</div>"
      ],
      "text/plain": [
       "            Weekly_Sales\n",
       "Date                    \n",
       "2010-02-05  1.942374e+06\n",
       "2010-02-12  1.831163e+06\n",
       "2010-02-19  1.863170e+06\n",
       "2010-02-26  1.671337e+06\n",
       "2010-03-05  1.770717e+06\n",
       "2010-03-12  1.769946e+06\n",
       "2010-03-19  1.744452e+06\n",
       "2010-03-26  1.691709e+06\n",
       "2010-04-02  1.977615e+06\n",
       "2010-04-09  1.814925e+06"
      ]
     },
     "execution_count": 249,
     "metadata": {},
     "output_type": "execute_result"
    }
   ],
   "source": [
    "# Separando as lojas que mais venderam\n",
    "Bst10 = Sum_Store_Date.loc[Sum_Store_bst10['Weekly_Sales'].index]\n",
    "Bst10\n",
    "# Média das 10 lojas com maior desempenho\n",
    "Bst10_Date = Bst10.groupby(by = 'Date').mean()\n",
    "Bst10_Date.head(10)"
   ]
  },
  {
   "cell_type": "code",
   "execution_count": 253,
   "metadata": {},
   "outputs": [
    {
     "data": {
      "image/png": "[encoded data removed]",
      "text/plain": [
       "<Figure size 432x288 with 1 Axes>"
      ]
     },
     "metadata": {},
     "output_type": "display_data"
    }
   ],
   "source": [
    "\n",
    "plote(Bst10_Date.index, 'Weekly_Sales', Bst10_Date,\n",
    "     'Data',\n",
    "     'Vendas Semanais',\n",
    "     'Média X Período das 10 lojas com maior desempenho',\n",
    "      8 )\n",
    "    "
   ]
  },
  {
   "cell_type": "markdown",
   "metadata": {},
   "source": [
    "# Terceira Questao"
   ]
  },
  {
   "cell_type": "code",
   "execution_count": 260,
   "metadata": {},
   "outputs": [
    {
     "data": {
      "text/plain": [
       "Store\n",
       "33    37160221.96\n",
       "44    43293087.84\n",
       "5     45475688.90\n",
       "36    53412214.97\n",
       "38    55159626.42\n",
       "3     57586735.07\n",
       "30    62716885.12\n",
       "37    74202740.32\n",
       "16    74252425.40\n",
       "29    77141554.31\n",
       "9     77789218.99\n",
       "Name: Weekly_Sales, dtype: float64"
      ]
     },
     "execution_count": 260,
     "metadata": {},
     "output_type": "execute_result"
    }
   ],
   "source": [
    "'''\n",
    "    As 10 lojas que pior performaram\n",
    "    são aquelas que apresentam menor\n",
    "    vendas totais.\n",
    "'''\n",
    "# Determinando as lojas que mais venderam\n",
    "\n",
    "# Ordenamento das lojas que mais venderam no período analisado\n",
    "Sum_Store_worst10 = Sum_Store.sort_values(by = 'Weekly_Sales', ascending=True).iloc[0:11,:]\n",
    "Sum_Store_worst10['Weekly_Sales']"
   ]
  },
  {
   "cell_type": "code",
   "execution_count": 261,
   "metadata": {},
   "outputs": [
    {
     "data": {
      "text/html": [
       "<div>\n",
       "<style scoped>\n",
       "    .dataframe tbody tr th:only-of-type {\n",
       "        vertical-align: middle;\n",
       "    }\n",
       "\n",
       "    .dataframe tbody tr th {\n",
       "        vertical-align: top;\n",
       "    }\n",
       "\n",
       "    .dataframe thead th {\n",
       "        text-align: right;\n",
       "    }\n",
       "</style>\n",
       "<table border=\"1\" class=\"dataframe\">\n",
       "  <thead>\n",
       "    <tr style=\"text-align: right;\">\n",
       "      <th></th>\n",
       "      <th>Weekly_Sales</th>\n",
       "    </tr>\n",
       "    <tr>\n",
       "      <th>Date</th>\n",
       "      <th></th>\n",
       "    </tr>\n",
       "  </thead>\n",
       "  <tbody>\n",
       "    <tr>\n",
       "      <th>2010-02-05</th>\n",
       "      <td>429744.285455</td>\n",
       "    </tr>\n",
       "    <tr>\n",
       "      <th>2010-02-12</th>\n",
       "      <td>427972.290909</td>\n",
       "    </tr>\n",
       "    <tr>\n",
       "      <th>2010-02-19</th>\n",
       "      <td>416809.751818</td>\n",
       "    </tr>\n",
       "    <tr>\n",
       "      <th>2010-02-26</th>\n",
       "      <td>400703.643636</td>\n",
       "    </tr>\n",
       "    <tr>\n",
       "      <th>2010-03-05</th>\n",
       "      <td>419183.420000</td>\n",
       "    </tr>\n",
       "    <tr>\n",
       "      <th>2010-03-12</th>\n",
       "      <td>408099.230909</td>\n",
       "    </tr>\n",
       "    <tr>\n",
       "      <th>2010-03-19</th>\n",
       "      <td>396675.731818</td>\n",
       "    </tr>\n",
       "    <tr>\n",
       "      <th>2010-03-26</th>\n",
       "      <td>399276.957273</td>\n",
       "    </tr>\n",
       "    <tr>\n",
       "      <th>2010-04-02</th>\n",
       "      <td>432167.982727</td>\n",
       "    </tr>\n",
       "    <tr>\n",
       "      <th>2010-04-09</th>\n",
       "      <td>419330.411818</td>\n",
       "    </tr>\n",
       "  </tbody>\n",
       "</table>\n",
       "</div>"
      ],
      "text/plain": [
       "             Weekly_Sales\n",
       "Date                     \n",
       "2010-02-05  429744.285455\n",
       "2010-02-12  427972.290909\n",
       "2010-02-19  416809.751818\n",
       "2010-02-26  400703.643636\n",
       "2010-03-05  419183.420000\n",
       "2010-03-12  408099.230909\n",
       "2010-03-19  396675.731818\n",
       "2010-03-26  399276.957273\n",
       "2010-04-02  432167.982727\n",
       "2010-04-09  419330.411818"
      ]
     },
     "execution_count": 261,
     "metadata": {},
     "output_type": "execute_result"
    }
   ],
   "source": [
    "# Separando as lojas que menos venderam\n",
    "Worst10 = Sum_Store_Date.loc[Sum_Store_worst10['Weekly_Sales'].index]\n",
    "Worst10\n",
    "# Média das 10 lojas com piores desempenho\n",
    "Worst10_Date = Worst10.groupby(by = 'Date').mean()\n",
    "Worst10_Date.head(10)"
   ]
  },
  {
   "cell_type": "code",
   "execution_count": 262,
   "metadata": {},
   "outputs": [
    {
     "data": {
      "image/png": "[encoded data removed]",
      "text/plain": [
       "<Figure size 432x288 with 1 Axes>"
      ]
     },
     "metadata": {},
     "output_type": "display_data"
    }
   ],
   "source": [
    "plote(Worst10_Date.index, 'Weekly_Sales', Worst10_Date,\n",
    "     'Data',\n",
    "     'Vendas Semanais',\n",
    "     'Média X Período das 10 lojas com pior desempenho',\n",
    "      8 )"
   ]
  },
  {
   "cell_type": "markdown",
   "metadata": {},
   "source": [
    "# Quarta Questao"
   ]
  },
  {
   "cell_type": "code",
   "execution_count": 263,
   "metadata": {},
   "outputs": [
    {
     "data": {
      "text/html": [
       "<div>\n",
       "<style scoped>\n",
       "    .dataframe tbody tr th:only-of-type {\n",
       "        vertical-align: middle;\n",
       "    }\n",
       "\n",
       "    .dataframe tbody tr th {\n",
       "        vertical-align: top;\n",
       "    }\n",
       "\n",
       "    .dataframe thead th {\n",
       "        text-align: right;\n",
       "    }\n",
       "</style>\n",
       "<table border=\"1\" class=\"dataframe\">\n",
       "  <thead>\n",
       "    <tr style=\"text-align: right;\">\n",
       "      <th></th>\n",
       "      <th>Store</th>\n",
       "      <th>Dept</th>\n",
       "      <th>Date</th>\n",
       "      <th>Weekly_Sales</th>\n",
       "      <th>IsHoliday</th>\n",
       "    </tr>\n",
       "  </thead>\n",
       "  <tbody>\n",
       "    <tr>\n",
       "      <th>1</th>\n",
       "      <td>1</td>\n",
       "      <td>1</td>\n",
       "      <td>2010-02-12</td>\n",
       "      <td>46039.49</td>\n",
       "      <td>True</td>\n",
       "    </tr>\n",
       "    <tr>\n",
       "      <th>31</th>\n",
       "      <td>1</td>\n",
       "      <td>1</td>\n",
       "      <td>2010-09-10</td>\n",
       "      <td>18194.74</td>\n",
       "      <td>True</td>\n",
       "    </tr>\n",
       "    <tr>\n",
       "      <th>42</th>\n",
       "      <td>1</td>\n",
       "      <td>1</td>\n",
       "      <td>2010-11-26</td>\n",
       "      <td>18820.29</td>\n",
       "      <td>True</td>\n",
       "    </tr>\n",
       "    <tr>\n",
       "      <th>47</th>\n",
       "      <td>1</td>\n",
       "      <td>1</td>\n",
       "      <td>2010-12-31</td>\n",
       "      <td>19124.58</td>\n",
       "      <td>True</td>\n",
       "    </tr>\n",
       "    <tr>\n",
       "      <th>53</th>\n",
       "      <td>1</td>\n",
       "      <td>1</td>\n",
       "      <td>2011-02-11</td>\n",
       "      <td>37887.17</td>\n",
       "      <td>True</td>\n",
       "    </tr>\n",
       "  </tbody>\n",
       "</table>\n",
       "</div>"
      ],
      "text/plain": [
       "    Store  Dept        Date  Weekly_Sales  IsHoliday\n",
       "1       1     1  2010-02-12      46039.49       True\n",
       "31      1     1  2010-09-10      18194.74       True\n",
       "42      1     1  2010-11-26      18820.29       True\n",
       "47      1     1  2010-12-31      19124.58       True\n",
       "53      1     1  2011-02-11      37887.17       True"
      ]
     },
     "execution_count": 263,
     "metadata": {},
     "output_type": "execute_result"
    }
   ],
   "source": [
    "'''\n",
    "    Primeiramente faturamento com feriados\n",
    "'''\n",
    "# Separando o vetor de feriado\n",
    "Holyday = data[data['IsHoliday'] == True]\n",
    "Holyday.head()"
   ]
  },
  {
   "cell_type": "code",
   "execution_count": 264,
   "metadata": {},
   "outputs": [
    {
     "data": {
      "text/html": [
       "<div>\n",
       "<style scoped>\n",
       "    .dataframe tbody tr th:only-of-type {\n",
       "        vertical-align: middle;\n",
       "    }\n",
       "\n",
       "    .dataframe tbody tr th {\n",
       "        vertical-align: top;\n",
       "    }\n",
       "\n",
       "    .dataframe thead th {\n",
       "        text-align: right;\n",
       "    }\n",
       "</style>\n",
       "<table border=\"1\" class=\"dataframe\">\n",
       "  <thead>\n",
       "    <tr style=\"text-align: right;\">\n",
       "      <th></th>\n",
       "      <th></th>\n",
       "      <th>Weekly_Sales</th>\n",
       "    </tr>\n",
       "    <tr>\n",
       "      <th>Store</th>\n",
       "      <th>Date</th>\n",
       "      <th></th>\n",
       "    </tr>\n",
       "  </thead>\n",
       "  <tbody>\n",
       "    <tr>\n",
       "      <th rowspan=\"5\" valign=\"top\">1</th>\n",
       "      <th>2010-02-12</th>\n",
       "      <td>1641957.44</td>\n",
       "    </tr>\n",
       "    <tr>\n",
       "      <th>2010-09-10</th>\n",
       "      <td>1507460.69</td>\n",
       "    </tr>\n",
       "    <tr>\n",
       "      <th>2010-11-26</th>\n",
       "      <td>1955624.11</td>\n",
       "    </tr>\n",
       "    <tr>\n",
       "      <th>2010-12-31</th>\n",
       "      <td>1367320.01</td>\n",
       "    </tr>\n",
       "    <tr>\n",
       "      <th>2011-02-11</th>\n",
       "      <td>1649614.93</td>\n",
       "    </tr>\n",
       "  </tbody>\n",
       "</table>\n",
       "</div>"
      ],
      "text/plain": [
       "                  Weekly_Sales\n",
       "Store Date                    \n",
       "1     2010-02-12    1641957.44\n",
       "      2010-09-10    1507460.69\n",
       "      2010-11-26    1955624.11\n",
       "      2010-12-31    1367320.01\n",
       "      2011-02-11    1649614.93"
      ]
     },
     "execution_count": 264,
     "metadata": {},
     "output_type": "execute_result"
    }
   ],
   "source": [
    "# Vendas totais de cada loja em cada período (Feriado)\n",
    "Sum_Store_Date_Holy = Holyday.groupby(by = ['Store', 'Date'])[['Weekly_Sales']].sum()\n",
    "Sum_Store_Date_Holy.head()"
   ]
  },
  {
   "cell_type": "code",
   "execution_count": 265,
   "metadata": {},
   "outputs": [
    {
     "data": {
      "text/html": [
       "<div>\n",
       "<style scoped>\n",
       "    .dataframe tbody tr th:only-of-type {\n",
       "        vertical-align: middle;\n",
       "    }\n",
       "\n",
       "    .dataframe tbody tr th {\n",
       "        vertical-align: top;\n",
       "    }\n",
       "\n",
       "    .dataframe thead th {\n",
       "        text-align: right;\n",
       "    }\n",
       "</style>\n",
       "<table border=\"1\" class=\"dataframe\">\n",
       "  <thead>\n",
       "    <tr style=\"text-align: right;\">\n",
       "      <th></th>\n",
       "      <th>Weekly_Sales</th>\n",
       "    </tr>\n",
       "    <tr>\n",
       "      <th>Date</th>\n",
       "      <th></th>\n",
       "    </tr>\n",
       "  </thead>\n",
       "  <tbody>\n",
       "    <tr>\n",
       "      <th>2010-02-12</th>\n",
       "      <td>1.074148e+06</td>\n",
       "    </tr>\n",
       "    <tr>\n",
       "      <th>2010-09-10</th>\n",
       "      <td>1.014098e+06</td>\n",
       "    </tr>\n",
       "    <tr>\n",
       "      <th>2010-11-26</th>\n",
       "      <td>1.462689e+06</td>\n",
       "    </tr>\n",
       "    <tr>\n",
       "      <th>2010-12-31</th>\n",
       "      <td>8.985004e+05</td>\n",
       "    </tr>\n",
       "    <tr>\n",
       "      <th>2011-02-11</th>\n",
       "      <td>1.051915e+06</td>\n",
       "    </tr>\n",
       "  </tbody>\n",
       "</table>\n",
       "</div>"
      ],
      "text/plain": [
       "            Weekly_Sales\n",
       "Date                    \n",
       "2010-02-12  1.074148e+06\n",
       "2010-09-10  1.014098e+06\n",
       "2010-11-26  1.462689e+06\n",
       "2010-12-31  8.985004e+05\n",
       "2011-02-11  1.051915e+06"
      ]
     },
     "execution_count": 265,
     "metadata": {},
     "output_type": "execute_result"
    }
   ],
   "source": [
    "# Média de vendas das lojas para cada periodo (Feriado)\n",
    "Avg_Store_Date_Holy = Sum_Store_Date_Holy.groupby(by = ['Date'])[['Weekly_Sales']].mean()\n",
    "Med_Store_Date_Holy = Sum_Store_Date_Holy.groupby(by = ['Date'])[['Weekly_Sales']].median()\n",
    "Avg_Store_Date_Holy.head()"
   ]
  },
  {
   "cell_type": "code",
   "execution_count": 268,
   "metadata": {},
   "outputs": [
    {
     "data": {
      "image/png": "[encoded data removed]",
      "text/plain": [
       "<Figure size 432x288 with 1 Axes>"
      ]
     },
     "metadata": {},
     "output_type": "display_data"
    }
   ],
   "source": [
    "plote(Avg_Store_Date_Holy.index, 'Weekly_Sales', Avg_Store_Date_Holy,\n",
    "     'Data',\n",
    "     'Vendas Semanais',\n",
    "     'Vendas Médias X Período considerando apenas os feriados',\n",
    "      1 )"
   ]
  },
  {
   "cell_type": "code",
   "execution_count": 271,
   "metadata": {},
   "outputs": [
    {
     "data": {
      "text/html": [
       "<div>\n",
       "<style scoped>\n",
       "    .dataframe tbody tr th:only-of-type {\n",
       "        vertical-align: middle;\n",
       "    }\n",
       "\n",
       "    .dataframe tbody tr th {\n",
       "        vertical-align: top;\n",
       "    }\n",
       "\n",
       "    .dataframe thead th {\n",
       "        text-align: right;\n",
       "    }\n",
       "</style>\n",
       "<table border=\"1\" class=\"dataframe\">\n",
       "  <thead>\n",
       "    <tr style=\"text-align: right;\">\n",
       "      <th></th>\n",
       "      <th>Store</th>\n",
       "      <th>Dept</th>\n",
       "      <th>Date</th>\n",
       "      <th>Weekly_Sales</th>\n",
       "      <th>IsHoliday</th>\n",
       "    </tr>\n",
       "  </thead>\n",
       "  <tbody>\n",
       "    <tr>\n",
       "      <th>0</th>\n",
       "      <td>1</td>\n",
       "      <td>1</td>\n",
       "      <td>2010-02-05</td>\n",
       "      <td>24924.50</td>\n",
       "      <td>False</td>\n",
       "    </tr>\n",
       "    <tr>\n",
       "      <th>2</th>\n",
       "      <td>1</td>\n",
       "      <td>1</td>\n",
       "      <td>2010-02-19</td>\n",
       "      <td>41595.55</td>\n",
       "      <td>False</td>\n",
       "    </tr>\n",
       "    <tr>\n",
       "      <th>3</th>\n",
       "      <td>1</td>\n",
       "      <td>1</td>\n",
       "      <td>2010-02-26</td>\n",
       "      <td>19403.54</td>\n",
       "      <td>False</td>\n",
       "    </tr>\n",
       "    <tr>\n",
       "      <th>4</th>\n",
       "      <td>1</td>\n",
       "      <td>1</td>\n",
       "      <td>2010-03-05</td>\n",
       "      <td>21827.90</td>\n",
       "      <td>False</td>\n",
       "    </tr>\n",
       "    <tr>\n",
       "      <th>5</th>\n",
       "      <td>1</td>\n",
       "      <td>1</td>\n",
       "      <td>2010-03-12</td>\n",
       "      <td>21043.39</td>\n",
       "      <td>False</td>\n",
       "    </tr>\n",
       "  </tbody>\n",
       "</table>\n",
       "</div>"
      ],
      "text/plain": [
       "   Store  Dept        Date  Weekly_Sales  IsHoliday\n",
       "0      1     1  2010-02-05      24924.50      False\n",
       "2      1     1  2010-02-19      41595.55      False\n",
       "3      1     1  2010-02-26      19403.54      False\n",
       "4      1     1  2010-03-05      21827.90      False\n",
       "5      1     1  2010-03-12      21043.39      False"
      ]
     },
     "execution_count": 271,
     "metadata": {},
     "output_type": "execute_result"
    }
   ],
   "source": [
    "NotHolyday = data[data['IsHoliday'] == False]\n",
    "NotHolyday.head()"
   ]
  },
  {
   "cell_type": "code",
   "execution_count": 272,
   "metadata": {},
   "outputs": [
    {
     "data": {
      "text/html": [
       "<div>\n",
       "<style scoped>\n",
       "    .dataframe tbody tr th:only-of-type {\n",
       "        vertical-align: middle;\n",
       "    }\n",
       "\n",
       "    .dataframe tbody tr th {\n",
       "        vertical-align: top;\n",
       "    }\n",
       "\n",
       "    .dataframe thead th {\n",
       "        text-align: right;\n",
       "    }\n",
       "</style>\n",
       "<table border=\"1\" class=\"dataframe\">\n",
       "  <thead>\n",
       "    <tr style=\"text-align: right;\">\n",
       "      <th></th>\n",
       "      <th></th>\n",
       "      <th>Weekly_Sales</th>\n",
       "    </tr>\n",
       "    <tr>\n",
       "      <th>Store</th>\n",
       "      <th>Date</th>\n",
       "      <th></th>\n",
       "    </tr>\n",
       "  </thead>\n",
       "  <tbody>\n",
       "    <tr>\n",
       "      <th rowspan=\"5\" valign=\"top\">1</th>\n",
       "      <th>2010-02-05</th>\n",
       "      <td>1643690.90</td>\n",
       "    </tr>\n",
       "    <tr>\n",
       "      <th>2010-02-19</th>\n",
       "      <td>1611968.17</td>\n",
       "    </tr>\n",
       "    <tr>\n",
       "      <th>2010-02-26</th>\n",
       "      <td>1409727.59</td>\n",
       "    </tr>\n",
       "    <tr>\n",
       "      <th>2010-03-05</th>\n",
       "      <td>1554806.68</td>\n",
       "    </tr>\n",
       "    <tr>\n",
       "      <th>2010-03-12</th>\n",
       "      <td>1439541.59</td>\n",
       "    </tr>\n",
       "  </tbody>\n",
       "</table>\n",
       "</div>"
      ],
      "text/plain": [
       "                  Weekly_Sales\n",
       "Store Date                    \n",
       "1     2010-02-05    1643690.90\n",
       "      2010-02-19    1611968.17\n",
       "      2010-02-26    1409727.59\n",
       "      2010-03-05    1554806.68\n",
       "      2010-03-12    1439541.59"
      ]
     },
     "execution_count": 272,
     "metadata": {},
     "output_type": "execute_result"
    }
   ],
   "source": [
    "# Vendas totais de cada loja em cada período (Sem Feriado)\n",
    "Sum_Store_Date_NHoly = NotHolyday.groupby(by = ['Store', 'Date'])[['Weekly_Sales']].sum()\n",
    "Sum_Store_Date_NHoly.head()"
   ]
  },
  {
   "cell_type": "code",
   "execution_count": 273,
   "metadata": {},
   "outputs": [
    {
     "data": {
      "text/html": [
       "<div>\n",
       "<style scoped>\n",
       "    .dataframe tbody tr th:only-of-type {\n",
       "        vertical-align: middle;\n",
       "    }\n",
       "\n",
       "    .dataframe tbody tr th {\n",
       "        vertical-align: top;\n",
       "    }\n",
       "\n",
       "    .dataframe thead th {\n",
       "        text-align: right;\n",
       "    }\n",
       "</style>\n",
       "<table border=\"1\" class=\"dataframe\">\n",
       "  <thead>\n",
       "    <tr style=\"text-align: right;\">\n",
       "      <th></th>\n",
       "      <th>Weekly_Sales</th>\n",
       "    </tr>\n",
       "    <tr>\n",
       "      <th>Date</th>\n",
       "      <th></th>\n",
       "    </tr>\n",
       "  </thead>\n",
       "  <tbody>\n",
       "    <tr>\n",
       "      <th>2010-02-05</th>\n",
       "      <td>1.105572e+06</td>\n",
       "    </tr>\n",
       "    <tr>\n",
       "      <th>2010-02-19</th>\n",
       "      <td>1.072822e+06</td>\n",
       "    </tr>\n",
       "    <tr>\n",
       "      <th>2010-02-26</th>\n",
       "      <td>9.770794e+05</td>\n",
       "    </tr>\n",
       "    <tr>\n",
       "      <th>2010-03-05</th>\n",
       "      <td>1.041588e+06</td>\n",
       "    </tr>\n",
       "    <tr>\n",
       "      <th>2010-03-12</th>\n",
       "      <td>1.020564e+06</td>\n",
       "    </tr>\n",
       "  </tbody>\n",
       "</table>\n",
       "</div>"
      ],
      "text/plain": [
       "            Weekly_Sales\n",
       "Date                    \n",
       "2010-02-05  1.105572e+06\n",
       "2010-02-19  1.072822e+06\n",
       "2010-02-26  9.770794e+05\n",
       "2010-03-05  1.041588e+06\n",
       "2010-03-12  1.020564e+06"
      ]
     },
     "execution_count": 273,
     "metadata": {},
     "output_type": "execute_result"
    }
   ],
   "source": [
    "# Média de vendas das lojas para cada periodo (Sem Feriado)\n",
    "Avg_Store_Date_NHoly = Sum_Store_Date_NHoly.groupby(by = ['Date'])[['Weekly_Sales']].mean()\n",
    "Med_Store_Date_NHoly = Sum_Store_Date_NHoly.groupby(by = ['Date'])[['Weekly_Sales']].median()\n",
    "Avg_Store_Date_NHoly.head()"
   ]
  },
  {
   "cell_type": "code",
   "execution_count": 275,
   "metadata": {},
   "outputs": [
    {
     "data": {
      "image/png": "[encoded data removed]",
      "text/plain": [
       "<Figure size 432x288 with 1 Axes>"
      ]
     },
     "metadata": {},
     "output_type": "display_data"
    }
   ],
   "source": [
    "plote(Avg_Store_Date_NHoly.index, 'Weekly_Sales', Avg_Store_Date_NHoly,\n",
    "     'Data',\n",
    "     'Vendas Semanais',\n",
    "     'Vendas Médias X Período desconsiderando os feriados',\n",
    "      8)"
   ]
  }
 ],
 "metadata": {
  "kernelspec": {
   "display_name": "Python 3",
   "language": "python",
   "name": "python3"
  },
  "language_info": {
   "codemirror_mode": {
    "name": "ipython",
    "version": 3
   },
   "file_extension": ".py",
   "mimetype": "text/x-python",
   "name": "python",
   "nbconvert_exporter": "python",
   "pygments_lexer": "ipython3",
   "version": "3.7.3"
  }
 },
 "nbformat": 4,
 "nbformat_minor": 2
}
